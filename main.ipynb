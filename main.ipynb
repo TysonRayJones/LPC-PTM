{
 "cells": [
  {
   "attachments": {},
   "cell_type": "markdown",
   "metadata": {},
   "source": [
    "This Jupyter notebook demonstrates use of the simulator to compute symbolic or numeric expectation values. See [`main.py`](main.py) for the equivalent code in a plain Python file."
   ]
  },
  {
   "attachments": {},
   "cell_type": "markdown",
   "metadata": {},
   "source": [
    "## Imports"
   ]
  },
  {
   "attachments": {},
   "cell_type": "markdown",
   "metadata": {},
   "source": [
    "The PTM simulator maintains a weighted sum of Pauli strings, which we will evolve using symbolically parameterised operators."
   ]
  },
  {
   "cell_type": "code",
   "execution_count": 1,
   "metadata": {},
   "outputs": [],
   "source": [
    "from source . ensemble import WeightedSumOfPauliStrings\n",
    "from source . symbols import Symb, Param, Prob\n",
    "from source . operators import H, Rx, Ry, Rz, U, Damp, Deph, Depol, Kraus, PauliGadget"
   ]
  },
  {
   "attachments": {},
   "cell_type": "markdown",
   "metadata": {},
   "source": [
    "We'll also later repurpose some of the simulator's bitwise algebra for pretty printing."
   ]
  },
  {
   "cell_type": "code",
   "execution_count": 2,
   "metadata": {},
   "outputs": [],
   "source": [
    "from source . twiddles import getStringOfPauliInd"
   ]
  },
  {
   "attachments": {},
   "cell_type": "markdown",
   "metadata": {},
   "source": [
    "Finally, to specify arbitrary symbolic matrices, we will use some of [SymPy](https://docs.sympy.org/latest/index.html)'s symbolic math overloads."
   ]
  },
  {
   "cell_type": "code",
   "execution_count": 3,
   "metadata": {},
   "outputs": [],
   "source": [
    "from sympy import sqrt"
   ]
  },
  {
   "attachments": {},
   "cell_type": "markdown",
   "metadata": {},
   "source": [
    "## Preparing an initial state"
   ]
  },
  {
   "attachments": {},
   "cell_type": "markdown",
   "metadata": {},
   "source": [
    "Our initial state (a weighted sum of Pauli strings) is usually an operator of interest of which we later wish to compute the expectation value, expressed in the Pauli basis. Let's begin with $X_0 - 2 Y_2Z_0$."
   ]
  },
  {
   "cell_type": "code",
   "execution_count": 4,
   "metadata": {},
   "outputs": [],
   "source": [
    "state = WeightedSumOfPauliStrings()\n",
    "state.addPauliString('X', 1)\n",
    "state.addPauliString('YIZ', -2)"
   ]
  },
  {
   "attachments": {},
   "cell_type": "markdown",
   "metadata": {},
   "source": [
    "We can also use generic symbols as the initial weights:"
   ]
  },
  {
   "cell_type": "code",
   "execution_count": 5,
   "metadata": {},
   "outputs": [],
   "source": [
    "a = Symb('a')\n",
    "state.addPauliString('ZZZ', a)"
   ]
  },
  {
   "attachments": {},
   "cell_type": "markdown",
   "metadata": {},
   "source": [
    "or symbolic expressions:"
   ]
  },
  {
   "cell_type": "code",
   "execution_count": 6,
   "metadata": {},
   "outputs": [],
   "source": [
    "b = Symb('b')\n",
    "state.addPauliString('ZXY', sqrt(a)+b**2)"
   ]
  },
  {
   "attachments": {},
   "cell_type": "markdown",
   "metadata": {},
   "source": [
    "Because they are `Symb` instances, symbols `a` and `b` are treated as generic complex variables. We could also have specified them as `Param` (to constrain them to be real-valued), or as `Prob` (to constrain them to be probabilities, i.e. in `[0,1]`)."
   ]
  },
  {
   "attachments": {},
   "cell_type": "markdown",
   "metadata": {},
   "source": [
    "## Specifying a circuit"
   ]
  },
  {
   "attachments": {},
   "cell_type": "markdown",
   "metadata": {},
   "source": [
    "File [`operators.py`](source/operators.py) defines a few canonical operators"
   ]
  },
  {
   "cell_type": "code",
   "execution_count": 7,
   "metadata": {},
   "outputs": [],
   "source": [
    "circ = [H(0), H(1), H(2)]"
   ]
  },
  {
   "attachments": {},
   "cell_type": "markdown",
   "metadata": {},
   "source": [
    "some of which can be parameterised"
   ]
  },
  {
   "cell_type": "code",
   "execution_count": 8,
   "metadata": {},
   "outputs": [],
   "source": [
    "c = Param('c')\n",
    "d = Param('d')\n",
    "circ += [Rx(0, c), Ry(1, d)]"
   ]
  },
  {
   "attachments": {},
   "cell_type": "markdown",
   "metadata": {},
   "source": [
    "and include control qubits"
   ]
  },
  {
   "cell_type": "code",
   "execution_count": 9,
   "metadata": {},
   "outputs": [],
   "source": [
    "e = Param('e')\n",
    "circ += [Rz(2, e, ctrls=[0]), H(0, ctrls=[1,2])]"
   ]
  },
  {
   "attachments": {},
   "cell_type": "markdown",
   "metadata": {},
   "source": [
    "We also support any-target [Pauli gadgets](https://arxiv.org/abs/1906.01734)"
   ]
  },
  {
   "cell_type": "code",
   "execution_count": 10,
   "metadata": {},
   "outputs": [],
   "source": [
    "f = Param('f')\n",
    "circ += [PauliGadget([1,2], 'XY', f)]"
   ]
  },
  {
   "attachments": {},
   "cell_type": "markdown",
   "metadata": {},
   "source": [
    "and canonical error channels"
   ]
  },
  {
   "cell_type": "code",
   "execution_count": 11,
   "metadata": {},
   "outputs": [],
   "source": [
    "g = Prob('g')\n",
    "h = Prob('h')\n",
    "circ += [Damp(0, g), Depol([0,1], h)]"
   ]
  },
  {
   "attachments": {},
   "cell_type": "markdown",
   "metadata": {},
   "source": [
    "For convenience, we can take a peek at the mathematics behind these operators."
   ]
  },
  {
   "cell_type": "code",
   "execution_count": 12,
   "metadata": {},
   "outputs": [
    {
     "data": {
      "text/plain": [
       "array([[sqrt(2)/2, sqrt(2)/2],\n",
       "       [sqrt(2)/2, -sqrt(2)/2]], dtype=object)"
      ]
     },
     "execution_count": 12,
     "metadata": {},
     "output_type": "execute_result"
    }
   ],
   "source": [
    "H(0).getMatrix()"
   ]
  },
  {
   "cell_type": "code",
   "execution_count": 13,
   "metadata": {},
   "outputs": [
    {
     "data": {
      "text/plain": [
       "array([[cos(c/2)**2, -I*sin(c)/2, I*sin(c)/2, sin(c/2)**2],\n",
       "       [-I*sin(c)/2, cos(c/2)**2, sin(c/2)**2, I*sin(c)/2],\n",
       "       [I*sin(c)/2, sin(c/2)**2, cos(c/2)**2, -I*sin(c)/2],\n",
       "       [sin(c/2)**2, I*sin(c)/2, -I*sin(c)/2, cos(c/2)**2]], dtype=object)"
      ]
     },
     "execution_count": 13,
     "metadata": {},
     "output_type": "execute_result"
    }
   ],
   "source": [
    "Rx(0,c).getSuperOperator()"
   ]
  },
  {
   "cell_type": "code",
   "execution_count": 14,
   "metadata": {},
   "outputs": [
    {
     "data": {
      "text/plain": [
       "array([[1, 0, 0, 0],\n",
       "       [0, cos(d), -sin(d), 0],\n",
       "       [0, sin(d), cos(d), 0],\n",
       "       [0, 0, 0, 1]], dtype=object)"
      ]
     },
     "execution_count": 14,
     "metadata": {},
     "output_type": "execute_result"
    }
   ],
   "source": [
    "Rz(0,d).getPauliTransferMatrix()"
   ]
  },
  {
   "cell_type": "code",
   "execution_count": 15,
   "metadata": {},
   "outputs": [
    {
     "name": "stdout",
     "output_type": "stream",
     "text": [
      "\t\t\t>>> evaluating and caching PTM of Damp1(real=True_nonnegative=True_probability=True)\n"
     ]
    },
    {
     "data": {
      "text/plain": [
       "[{0: 1.00000000000000, 3: g}, {1: sqrt(1 - g)}, {2: sqrt(1 - g)}, {3: 1 - g}]"
      ]
     },
     "execution_count": 15,
     "metadata": {},
     "output_type": "execute_result"
    }
   ],
   "source": [
    "Damp(0,g).getPauliTransferMap()"
   ]
  },
  {
   "attachments": {},
   "cell_type": "markdown",
   "metadata": {},
   "source": [
    "## Applying a circuit"
   ]
  },
  {
   "attachments": {},
   "cell_type": "markdown",
   "metadata": {},
   "source": [
    "Let's apply the circuit so far"
   ]
  },
  {
   "cell_type": "code",
   "execution_count": 16,
   "metadata": {},
   "outputs": [
    {
     "name": "stdout",
     "output_type": "stream",
     "text": [
      "applying H[0]\n",
      "\t\t\t>>> evaluating and caching PTM of H1\n",
      "applying H[1]\n",
      "applying H[2]\n",
      "applying Rx[0](c)\n",
      "\t\t\t>>> evaluating and caching PTM of Rx1(real=True_probability=False)\n",
      "applying Ry[1](d)\n",
      "\t\t\t>>> evaluating and caching PTM of Ry1(real=True_probability=False)\n",
      "applying C[0]Rz[2](e)\n",
      "\t\t\t>>> evaluating and caching PTM of C1Rz1(real=True_probability=False)\n",
      "applying C[1,2]H[0]\n",
      "\t\t\t>>> evaluating and caching PTM of C2H1\n",
      "applying PauliGadget[1,2][YX](f)\n",
      "applying Damp[0](g)\n",
      "applying Depol[0,1](h)\n",
      "\t\t\t>>> evaluating and caching PTM of Depol2(real=True_nonnegative=True_probability=True)\n"
     ]
    }
   ],
   "source": [
    "for op in circ:\n",
    "    print('applying', op)\n",
    "    state.applyOperator(op)"
   ]
  },
  {
   "attachments": {},
   "cell_type": "markdown",
   "metadata": {},
   "source": [
    "We have set `_LOG_CACHE=True` in [`paulitransfer.py`](source/paulitransfer.py) in order to see when an operator's Pauli transfer matrix was computed."
   ]
  },
  {
   "attachments": {},
   "cell_type": "markdown",
   "metadata": {},
   "source": [
    "We can peek at the weight of one of the Pauli strings produced so far"
   ]
  },
  {
   "cell_type": "code",
   "execution_count": 17,
   "metadata": {},
   "outputs": [
    {
     "data": {
      "text/latex": [
       "$\\displaystyle \\left(1 - \\frac{16 h}{15}\\right) \\left(g \\left(- 0.25 \\sqrt{2} a \\cos{\\left(d \\right)} \\cos{\\left(\\frac{e}{2} \\right)} + \\frac{\\left(\\frac{1}{2} - \\frac{\\cos{\\left(e \\right)}}{2}\\right) \\left(- \\sqrt{a} - b^{2}\\right) \\sin{\\left(c \\right)} \\sin{\\left(d \\right)}}{2} - \\frac{\\sqrt{2} \\left(- \\sqrt{a} - b^{2}\\right) \\left(\\frac{\\cos{\\left(e \\right)}}{2} + \\frac{1}{2}\\right) \\sin{\\left(c \\right)} \\sin{\\left(d \\right)}}{4}\\right) \\cos{\\left(f \\right)} + \\left(1 - g\\right) \\left(- 1.0 \\left(- 0.25 \\sin{\\left(c \\right)} \\sin{\\left(\\frac{e}{2} \\right)} + 0.25 \\cos{\\left(c \\right)}\\right) \\sin{\\left(f \\right)} + \\left(- \\frac{\\sqrt{2} \\cdot \\left(\\frac{1}{2} - \\frac{\\cos{\\left(e \\right)}}{2}\\right) \\left(- \\sqrt{a} - b^{2}\\right) \\sin{\\left(c \\right)} \\sin{\\left(d \\right)}}{4} + \\frac{\\left(- \\sqrt{a} - b^{2}\\right) \\left(\\frac{\\cos{\\left(e \\right)}}{2} + \\frac{1}{2}\\right) \\sin{\\left(c \\right)} \\sin{\\left(d \\right)}}{2} + \\frac{\\sqrt{2} \\left(- \\sqrt{a} - b^{2}\\right) \\sin{\\left(d \\right)} \\sin{\\left(\\frac{e}{2} \\right)} \\cos{\\left(c \\right)}}{4}\\right) \\cos{\\left(f \\right)}\\right)\\right)$"
      ],
      "text/plain": [
       "(1 - 16*h/15)*(g*(-0.25*sqrt(2)*a*cos(d)*cos(e/2) + (1/2 - cos(e)/2)*(-sqrt(a) - b**2)*sin(c)*sin(d)/2 - sqrt(2)*(-sqrt(a) - b**2)*(cos(e)/2 + 1/2)*sin(c)*sin(d)/4)*cos(f) + (1 - g)*(-1.0*(-0.25*sin(c)*sin(e/2) + 0.25*cos(c))*sin(f) + (-sqrt(2)*(1/2 - cos(e)/2)*(-sqrt(a) - b**2)*sin(c)*sin(d)/4 + (-sqrt(a) - b**2)*(cos(e)/2 + 1/2)*sin(c)*sin(d)/2 + sqrt(2)*(-sqrt(a) - b**2)*sin(d)*sin(e/2)*cos(c)/4)*cos(f)))"
      ]
     },
     "execution_count": 17,
     "metadata": {},
     "output_type": "execute_result"
    }
   ],
   "source": [
    "state.getWeight('YYZ')"
   ]
  },
  {
   "attachments": {},
   "cell_type": "markdown",
   "metadata": {},
   "source": [
    "The result is a first-class [SymPy](https://www.sympy.org/en/index.html) [expression](https://docs.sympy.org/latest/tutorials/intro-tutorial/manipulation.html), so we can use the full API for subsequent calculation."
   ]
  },
  {
   "cell_type": "code",
   "execution_count": 18,
   "metadata": {},
   "outputs": [
    {
     "data": {
      "text/latex": [
       "$\\displaystyle \\sqrt{30} \\sqrt{16 g h \\left(2.0 \\sqrt{2} a \\cos{\\left(d \\right)} \\cos{\\left(\\frac{e}{2} \\right)} + 2 \\cdot \\left(1 - \\cos{\\left(e \\right)}\\right) \\left(\\sqrt{a} + b^{2}\\right) \\sin{\\left(c \\right)} \\sin{\\left(d \\right)} - \\sqrt{2} \\left(\\sqrt{a} + b^{2}\\right) \\left(\\cos{\\left(e \\right)} + 1\\right) \\sin{\\left(c \\right)} \\sin{\\left(d \\right)}\\right) \\cos{\\left(f \\right)} - 15 g \\left(2.0 \\sqrt{2} a \\cos{\\left(d \\right)} \\cos{\\left(\\frac{e}{2} \\right)} + 2 \\cdot \\left(1 - \\cos{\\left(e \\right)}\\right) \\left(\\sqrt{a} + b^{2}\\right) \\sin{\\left(c \\right)} \\sin{\\left(d \\right)} - \\sqrt{2} \\left(\\sqrt{a} + b^{2}\\right) \\left(\\cos{\\left(e \\right)} + 1\\right) \\sin{\\left(c \\right)} \\sin{\\left(d \\right)}\\right) \\cos{\\left(f \\right)} - 16 h \\left(g - 1\\right) \\left(- \\left(\\sqrt{a} + b^{2}\\right) \\left(\\sqrt{2} \\cdot \\left(1 - \\cos{\\left(e \\right)}\\right) \\sin{\\left(c \\right)} - 2 \\left(\\cos{\\left(e \\right)} + 1\\right) \\sin{\\left(c \\right)} - 2 \\sqrt{2} \\sin{\\left(\\frac{e}{2} \\right)} \\cos{\\left(c \\right)}\\right) \\sin{\\left(d \\right)} \\cos{\\left(f \\right)} + 2.0 \\left(- \\sin{\\left(c \\right)} \\sin{\\left(\\frac{e}{2} \\right)} + \\cos{\\left(c \\right)}\\right) \\sin{\\left(f \\right)}\\right) + 15 \\left(g - 1\\right) \\left(- \\left(\\sqrt{a} + b^{2}\\right) \\left(\\sqrt{2} \\cdot \\left(1 - \\cos{\\left(e \\right)}\\right) \\sin{\\left(c \\right)} - 2 \\left(\\cos{\\left(e \\right)} + 1\\right) \\sin{\\left(c \\right)} - 2 \\sqrt{2} \\sin{\\left(\\frac{e}{2} \\right)} \\cos{\\left(c \\right)}\\right) \\sin{\\left(d \\right)} \\cos{\\left(f \\right)} + 2.0 \\left(- \\sin{\\left(c \\right)} \\sin{\\left(\\frac{e}{2} \\right)} + \\cos{\\left(c \\right)}\\right) \\sin{\\left(f \\right)}\\right)}$"
      ],
      "text/plain": [
       "sqrt(30)*sqrt(16*g*h*(2.0*sqrt(2)*a*cos(d)*cos(e/2) + 2*(1 - cos(e))*(sqrt(a) + b**2)*sin(c)*sin(d) - sqrt(2)*(sqrt(a) + b**2)*(cos(e) + 1)*sin(c)*sin(d))*cos(f) - 15*g*(2.0*sqrt(2)*a*cos(d)*cos(e/2) + 2*(1 - cos(e))*(sqrt(a) + b**2)*sin(c)*sin(d) - sqrt(2)*(sqrt(a) + b**2)*(cos(e) + 1)*sin(c)*sin(d))*cos(f) - 16*h*(g - 1)*(-(sqrt(a) + b**2)*(sqrt(2)*(1 - cos(e))*sin(c) - 2*(cos(e) + 1)*sin(c) - 2*sqrt(2)*sin(e/2)*cos(c))*sin(d)*cos(f) + 2.0*(-sin(c)*sin(e/2) + cos(c))*sin(f)) + 15*(g - 1)*(-(sqrt(a) + b**2)*(sqrt(2)*(1 - cos(e))*sin(c) - 2*(cos(e) + 1)*sin(c) - 2*sqrt(2)*sin(e/2)*cos(c))*sin(d)*cos(f) + 2.0*(-sin(c)*sin(e/2) + cos(c))*sin(f)))"
      ]
     },
     "execution_count": 18,
     "metadata": {},
     "output_type": "execute_result"
    }
   ],
   "source": [
    "60 * sqrt(state.getWeight('YYZ')).simplify()"
   ]
  },
  {
   "attachments": {},
   "cell_type": "markdown",
   "metadata": {},
   "source": [
    "Because we have not substituted any values for our symbols `a ... h`, they are kept symbolic in the Pauli string weights. \n",
    "\n",
    "Calling `getWeight()` above triggered a heirarchal symbolic evaluation which we now clear in order to apply additional gates"
   ]
  },
  {
   "cell_type": "code",
   "execution_count": 19,
   "metadata": {},
   "outputs": [],
   "source": [
    "state.clearWeights()\n",
    "num = len(circ)"
   ]
  },
  {
   "attachments": {},
   "cell_type": "markdown",
   "metadata": {},
   "source": [
    "## Specifying general operators"
   ]
  },
  {
   "attachments": {},
   "cell_type": "markdown",
   "metadata": {},
   "source": [
    "We can describe general, multi-parameter operators in terms of their complex, symbolic matrices."
   ]
  },
  {
   "cell_type": "code",
   "execution_count": 20,
   "metadata": {},
   "outputs": [],
   "source": [
    "j = Symb('j')\n",
    "k = Symb('k')\n",
    "\n",
    "matr = (\n",
    "  (0, 0, 1j, 0),\n",
    "  (0, j+k, 0, 0),\n",
    "  (j, 0, 0, j**2),\n",
    "  (0, 0, 0, 0))\n",
    "\n",
    "circ += [U([1,2], matr)]\n",
    "circ += [U([0,2], matr, ctrls=[1])]"
   ]
  },
  {
   "attachments": {},
   "cell_type": "markdown",
   "metadata": {},
   "source": [
    "Note that `matr` above is not unitary for general `j`,`k`. Unitarity it is _not_ required by our PTM simulation, but it will result in our Pauli strings having _complex_ weights at later evalution"
   ]
  },
  {
   "attachments": {},
   "cell_type": "markdown",
   "metadata": {},
   "source": [
    "Even Kraus maps can be general:"
   ]
  },
  {
   "cell_type": "code",
   "execution_count": 21,
   "metadata": {},
   "outputs": [],
   "source": [
    "kraus1 = ((0, j), (k, 0))\n",
    "kraus2 = ((j+k, 0), (k**2, sqrt(j)))\n",
    "krauses = (kraus1, kraus2)\n",
    "circ += [Kraus(0, krauses)]\n",
    "circ += [Kraus([1,2], (matr,))]"
   ]
  },
  {
   "attachments": {},
   "cell_type": "markdown",
   "metadata": {},
   "source": [
    "Let's also apply these additional operators"
   ]
  },
  {
   "cell_type": "code",
   "execution_count": 22,
   "metadata": {},
   "outputs": [
    {
     "name": "stdout",
     "output_type": "stream",
     "text": [
      "applying U[1,2](j,k)\n",
      "\t\t\t>>> evaluating and caching PTM of U2(4710293696)\n",
      "applying C[1]U[0,2](j,k)\n",
      "\t\t\t>>> evaluating and caching PTM of C1U2(4710293696)\n",
      "applying Kraus[0](j,k)\n",
      "\t\t\t>>> evaluating and caching PTM of Kraus1(4711162560)\n",
      "applying Kraus[1,2](j,k)\n",
      "\t\t\t>>> evaluating and caching PTM of Kraus2(4710961536)\n"
     ]
    }
   ],
   "source": [
    "for op in circ[num:]:\n",
    "    print('applying', op)\n",
    "    state.applyOperator(op)"
   ]
  },
  {
   "attachments": {},
   "cell_type": "markdown",
   "metadata": {},
   "source": [
    "## Caching"
   ]
  },
  {
   "attachments": {},
   "cell_type": "markdown",
   "metadata": {},
   "source": [
    "When an unrecognised operator was first applied to our ensemble, its PTM was computed and the result was _cached_ to avoid future recomputation. As such, re-applying our circuit is now much faster:"
   ]
  },
  {
   "cell_type": "code",
   "execution_count": 23,
   "metadata": {},
   "outputs": [
    {
     "name": "stdout",
     "output_type": "stream",
     "text": [
      "faster applying H[0]\n",
      "faster applying H[1]\n",
      "faster applying H[2]\n",
      "faster applying Rx[0](c)\n",
      "faster applying Ry[1](d)\n",
      "faster applying C[0]Rz[2](e)\n",
      "faster applying C[1,2]H[0]\n",
      "faster applying PauliGadget[1,2][YX](f)\n",
      "faster applying Damp[0](g)\n",
      "faster applying Depol[0,1](h)\n",
      "faster applying U[1,2](j,k)\n",
      "faster applying C[1]U[0,2](j,k)\n",
      "faster applying Kraus[0](j,k)\n",
      "faster applying Kraus[1,2](j,k)\n",
      "faster applying H[0]\n",
      "faster applying H[1]\n",
      "faster applying H[2]\n",
      "faster applying Rx[0](c)\n",
      "faster applying Ry[1](d)\n",
      "faster applying C[0]Rz[2](e)\n",
      "faster applying C[1,2]H[0]\n",
      "faster applying PauliGadget[1,2][YX](f)\n",
      "faster applying Damp[0](g)\n",
      "faster applying Depol[0,1](h)\n",
      "faster applying U[1,2](j,k)\n",
      "faster applying C[1]U[0,2](j,k)\n",
      "faster applying Kraus[0](j,k)\n",
      "faster applying Kraus[1,2](j,k)\n"
     ]
    }
   ],
   "source": [
    "num = len(circ)\n",
    "circ *= 3\n",
    "for op in circ[num:]:\n",
    "    print('faster applying', op)\n",
    "    state.applyOperator(op)"
   ]
  },
  {
   "attachments": {},
   "cell_type": "markdown",
   "metadata": {},
   "source": [
    "The cached PTMs are agnostic to target qubits and same-domain symbols."
   ]
  },
  {
   "cell_type": "code",
   "execution_count": 24,
   "metadata": {},
   "outputs": [
    {
     "name": "stdout",
     "output_type": "stream",
     "text": [
      "still faster applying C[0]Rz[2](c)\n",
      "still faster applying C[2]Rz[1](d)\n",
      "still faster applying C[1]Rz[0](e)\n",
      "still faster applying C[2]Rz[0](f)\n",
      "still faster applying C[0,1]H[2]\n",
      "still faster applying C[2,0]H[1]\n",
      "still faster applying Kraus[0](j,k)\n",
      "still faster applying Kraus[1](j,k)\n",
      "still faster applying Kraus[2](j,k)\n",
      "still faster applying C[2]U[0,1](j,k)\n",
      "still faster applying C[1]U[2,0](j,k)\n",
      "still faster applying C[0]U[2,1](j,k)\n"
     ]
    }
   ],
   "source": [
    "num = len(circ)\n",
    "circ += [\n",
    "    Rz(2, c, ctrls=[0]),\n",
    "    Rz(1, d, ctrls=[2]), \n",
    "    Rz(0, e, ctrls=[1]),\n",
    "    Rz(0, f, ctrls=[2]), \n",
    "    H(2, ctrls=[0,1]),\n",
    "    H(1, ctrls=[2,0]),\n",
    "    Kraus(0, krauses),\n",
    "    Kraus(1, krauses),\n",
    "    Kraus(2, krauses),\n",
    "    U([0,1], matr, ctrls=[2]),\n",
    "    U([2,0], matr, ctrls=[1]),\n",
    "    U([2,1], matr, ctrls=[0])\n",
    "]\n",
    "\n",
    "for op in circ[num:]:\n",
    "    print('still faster applying', op)\n",
    "    state.applyOperator(op)"
   ]
  },
  {
   "attachments": {},
   "cell_type": "markdown",
   "metadata": {},
   "source": [
    "## Specifying non-CPTP operators"
   ]
  },
  {
   "attachments": {},
   "cell_type": "markdown",
   "metadata": {},
   "source": [
    "We saw that `U` and `Kraus` operators (specified element-wise) could be non-CPTP. So too can every canonical parameterised operator, by passing a permittedly-complex symbol."
   ]
  },
  {
   "cell_type": "code",
   "execution_count": 25,
   "metadata": {},
   "outputs": [
    {
     "name": "stdout",
     "output_type": "stream",
     "text": [
      "Ry[0](c) :\n",
      " [[cos(c/2)**2 -sin(c)/2 -sin(c)/2 sin(c/2)**2]\n",
      " [sin(c)/2 cos(c/2)**2 -sin(c/2)**2 -sin(c)/2]\n",
      " [sin(c)/2 -sin(c/2)**2 cos(c/2)**2 -sin(c)/2]\n",
      " [sin(c/2)**2 sin(c)/2 sin(c)/2 cos(c/2)**2]] \n",
      "\n",
      "Ry[1](l) :\n",
      " [[cos(l/2)*cos(conjugate(l)/2) -sin(l/2)*cos(conjugate(l)/2)\n",
      "  -sin(conjugate(l)/2)*cos(l/2) sin(l/2)*sin(conjugate(l)/2)]\n",
      " [sin(l/2)*cos(conjugate(l)/2) cos(l/2)*cos(conjugate(l)/2)\n",
      "  -sin(l/2)*sin(conjugate(l)/2) -sin(conjugate(l)/2)*cos(l/2)]\n",
      " [sin(conjugate(l)/2)*cos(l/2) -sin(l/2)*sin(conjugate(l)/2)\n",
      "  cos(l/2)*cos(conjugate(l)/2) -sin(l/2)*cos(conjugate(l)/2)]\n",
      " [sin(l/2)*sin(conjugate(l)/2) sin(conjugate(l)/2)*cos(l/2)\n",
      "  sin(l/2)*cos(conjugate(l)/2) cos(l/2)*cos(conjugate(l)/2)]] \n",
      "\n"
     ]
    }
   ],
   "source": [
    "l = Symb('l')\n",
    "g1 = Ry(0, c) # real\n",
    "g2 = Ry(1, l) # complex\n",
    "\n",
    "for op in [g1, g2]:\n",
    "    print(op, ':\\n', op.getSuperOperator(), '\\n')"
   ]
  },
  {
   "cell_type": "code",
   "execution_count": 26,
   "metadata": {},
   "outputs": [
    {
     "name": "stdout",
     "output_type": "stream",
     "text": [
      "Damp[0](g) :\n",
      " [[1 0 0 g]\n",
      " [0 sqrt(1 - g) 0 0]\n",
      " [0 0 sqrt(1 - g) 0]\n",
      " [0 0 0 1 - g]] \n",
      "\n",
      "Damp[1](m) :\n",
      " [[1 0 0 sqrt(m)*conjugate(sqrt(m))]\n",
      " [0 sqrt(1 - m) 0 0]\n",
      " [0 0 conjugate(sqrt(1 - m)) 0]\n",
      " [0 0 0 sqrt(1 - m)*conjugate(sqrt(1 - m))]] \n",
      "\n"
     ]
    }
   ],
   "source": [
    "m = Symb('m')\n",
    "g3 = Damp(0, g) # probability\n",
    "g4 = Damp(1, m) # complex\n",
    "\n",
    "for op in [g3, g4]:\n",
    "    print(op, ':\\n', op.getSuperOperator(), '\\n')"
   ]
  },
  {
   "attachments": {},
   "cell_type": "markdown",
   "metadata": {},
   "source": [
    "Let's apply these non-CPTP operators to our ensemble. Note their PTMs are computed and cached afresh, because the existing cached ones were simplified by assuming CPTP."
   ]
  },
  {
   "cell_type": "code",
   "execution_count": 27,
   "metadata": {},
   "outputs": [
    {
     "name": "stdout",
     "output_type": "stream",
     "text": [
      "applying non-CPTP Ry[1](l)\n",
      "\t\t\t>>> evaluating and caching PTM of Ry1(probability=False)\n",
      "applying non-CPTP Damp[1](m)\n",
      "\t\t\t>>> evaluating and caching PTM of Damp1(probability=False)\n"
     ]
    }
   ],
   "source": [
    "circ += [g2, g4]\n",
    "for op in circ[-2:]:\n",
    "    print('applying non-CPTP', op)\n",
    "    state.applyOperator(op)"
   ]
  },
  {
   "attachments": {},
   "cell_type": "markdown",
   "metadata": {},
   "source": [
    "## Susbtituting parameters"
   ]
  },
  {
   "attachments": {},
   "cell_type": "markdown",
   "metadata": {},
   "source": [
    "By now, our Pauli ensemble is sufficiently complicated that evaluating a Pauli string weight _symbolically_, as we did earlier, would be infeasible. So instead, we specify numerical values for the symbols:"
   ]
  },
  {
   "cell_type": "code",
   "execution_count": 28,
   "metadata": {},
   "outputs": [],
   "source": [
    "values = {\n",
    "    a: 1+1j, b: -1-0.5j,     # Symb\n",
    "    c: 1, d: 2, e: 3, f: 4,  # Param\n",
    "    g: .1, h:.1,             # Prob\n",
    "    j: 1j, k: 2j, l: 1, m:2  # Symb\n",
    "}"
   ]
  },
  {
   "attachments": {},
   "cell_type": "markdown",
   "metadata": {},
   "source": [
    "We bind these substitutions to the ensemble, so that they are leveraged during subsequent weight calculation in a hierarchical fashion."
   ]
  },
  {
   "cell_type": "code",
   "execution_count": 29,
   "metadata": {},
   "outputs": [],
   "source": [
    "state.setParams(values)"
   ]
  },
  {
   "attachments": {},
   "cell_type": "markdown",
   "metadata": {},
   "source": [
    "Now we can compute _every_ weight numerically."
   ]
  },
  {
   "cell_type": "code",
   "execution_count": 30,
   "metadata": {},
   "outputs": [
    {
     "name": "stdout",
     "output_type": "stream",
     "text": [
      "III = -491277695440.553 - 300276209764.428*I\n",
      "IIX = 49164014288.627 + 29641894531.5694*I\n",
      "IIY = -104914096181.537 - 64345510766.092*I\n",
      "IIZ = 216540643042.074 + 131115483617.428*I\n",
      "IXI = -15134980887.631 - 9315807267.18915*I\n",
      "IXX = -105517791501.864 - 65083395544.2425*I\n",
      "IXY = -69315800081.2531 - 41176322976.1162*I\n",
      "IXZ = -13676196569.0263 - 8435867204.64878*I\n",
      "IYI = -160276585904.166 - 97506319058.6129*I\n",
      "IYX = 31632863263.9426 + 19023269973.0902*I\n",
      "IYY = -69609524936.6136 - 42655212403.3244*I\n",
      "IYZ = 241513856542.033 + 147351981910.062*I\n",
      "IZI = -296390049475.202 - 180904380673.64*I\n",
      "IZX = -8185202961.57219 - 4608797576.77921*I\n",
      "IZY = -11875556103.7221 - 7058866232.37562*I\n",
      "IZZ = 187031743326.754 + 113712077223.425*I\n",
      "XII = 14315601524.8193 + 9152132718.77937*I\n",
      "XIX = -39236910843.816 - 23947737438.9233*I\n",
      "XIY = 1741850089.34559 + 1303821926.29824*I\n",
      "XIZ = -20215681275.5768 - 11322921423.1031*I\n",
      "XXI = -5694262261.3466 - 3659761212.64569*I\n",
      "XXX = -20938983078.9368 - 12232495330.3379*I\n",
      "XXY = 5685754024.49656 + 3810423022.28078*I\n",
      "XXZ = -3301514028.42751 - 1505808366.01058*I\n",
      "XYI = 12106935071.2933 + 6955193013.30917*I\n",
      "XYX = -13701776539.1993 - 8541088962.95885*I\n",
      "XYY = -13878668784.0609 - 8040639173.75578*I\n",
      "XYZ = -11035395121.9849 - 6808217348.04706*I\n",
      "XZI = -6077561584.70057 - 3524112939.59726*I\n",
      "XZX = -21090261545.9622 - 12670484056.4225*I\n",
      "XZY = 7915733877.52557 + 4777320089.32469*I\n",
      "XZZ = 4049249267.25248 + 2912137968.09151*I\n",
      "YII = 29802302036.8604 + 18473470881.211*I\n",
      "YIX = -17564978646.1504 - 9731061562.91133*I\n",
      "YIY = 13519557388.8027 + 8803804581.37971*I\n",
      "YIZ = 47223844337.0173 + 28600187424.5236*I\n",
      "YXI = -25105828764.203 - 15216925245.4578*I\n",
      "YXX = 4616376384.0149 + 3497421394.11559*I\n",
      "YXY = 5239245099.49236 + 2652877253.76081*I\n",
      "YXZ = 33497933148.2288 + 20280477861.6844*I\n",
      "YYI = -13788327251.1615 - 8311325277.47904*I\n",
      "YYX = 3311556463.67307 + 2360622450.25528*I\n",
      "YYY = 17279594933.898 + 10742710958.6101*I\n",
      "YYZ = -3613214309.49449 - 2354642116.00826*I\n",
      "YZI = 8826582297.57474 + 5750027413.62028*I\n",
      "YZX = -3664791429.66879 - 1969636342.58948*I\n",
      "YZY = 9112926819.26284 + 5553976453.00949*I\n",
      "YZZ = 19382270746.0442 + 11445883311.488*I\n",
      "ZII = 470802227955.229 + 287716873575.361*I\n",
      "ZIX = -48867694279.8141 - 29459280281.3489*I\n",
      "ZIY = 113195404476.276 + 69318307532.8163*I\n",
      "ZIZ = -219252235976.984 - 132775656296.734*I\n",
      "ZXI = 12373413095.1844 + 7648304762.58239*I\n",
      "ZXX = 105042938396.488 + 64831544243.4139*I\n",
      "ZXY = 76256533373.4447 + 45470069484.0973*I\n",
      "ZXZ = 13832197413.7891 + 8528244825.12275*I\n",
      "ZYI = 163610668408.537 + 99529355367.8698*I\n",
      "ZYX = -32917927045.5441 - 19831366040.7498*I\n",
      "ZYY = 67751096376.2133 + 41571794730.9255*I\n",
      "ZYZ = -240429718647.096 - 146697490379.496*I\n",
      "ZZI = 286636552192.826 + 174934292750.111*I\n",
      "ZZX = 8573874156.11565 + 4851551943.63424*I\n",
      "ZZY = 16163644117.6084 + 9618673283.09838*I\n",
      "ZZZ = -187587068870.32 - 114052434230.498*I\n"
     ]
    }
   ],
   "source": [
    "numQubits = state.getNumQubits()\n",
    "numStates = state.getNumPossibleStrings()\n",
    "\n",
    "for ind in range(numStates):\n",
    "    weight = state.getWeight(ind)\n",
    "    print(getStringOfPauliInd(ind, numQubits), '=', weight)"
   ]
  },
  {
   "attachments": {},
   "cell_type": "markdown",
   "metadata": {},
   "source": [
    "## Partially substituting parameters"
   ]
  },
  {
   "attachments": {},
   "cell_type": "markdown",
   "metadata": {},
   "source": [
    "We do not need to give _every_ symbol a value. We can keep some generic, so that the calculated weights contain only specific symbols."
   ]
  },
  {
   "attachments": {},
   "cell_type": "markdown",
   "metadata": {},
   "source": [
    "Here are some operators with new parameters"
   ]
  },
  {
   "cell_type": "code",
   "execution_count": 31,
   "metadata": {},
   "outputs": [],
   "source": [
    "n = Param('n')\n",
    "p = Prob('p')\n",
    "q = Symb('q')\n",
    "\n",
    "num = len(circ)\n",
    "circ += [\n",
    "    PauliGadget([0,1,2], 'XYZ', n),\n",
    "    Deph([0,1], p),\n",
    "    Ry([2], q, ctrls=[1])\n",
    "]"
   ]
  },
  {
   "attachments": {},
   "cell_type": "markdown",
   "metadata": {},
   "source": [
    "Let's apply these to our ensemble, but without giving them explicit values in the substitution."
   ]
  },
  {
   "cell_type": "code",
   "execution_count": 32,
   "metadata": {},
   "outputs": [
    {
     "name": "stdout",
     "output_type": "stream",
     "text": [
      "applying PauliGadget[0,1,2][ZYX](n)\n",
      "applying Deph[0,1](p)\n",
      "\t\t\t>>> evaluating and caching PTM of Deph2(real=True_nonnegative=True_probability=True)\n",
      "applying C[1]Ry[2](q)\n",
      "\t\t\t>>> evaluating and caching PTM of C1Ry1(probability=False)\n"
     ]
    }
   ],
   "source": [
    "state.clearWeights()\n",
    "\n",
    "for op in circ[num:]:\n",
    "    print('applying', op)\n",
    "    state.applyOperator(op)\n",
    "\n",
    "state.setParams(values) # excludes n,p,q"
   ]
  },
  {
   "attachments": {},
   "cell_type": "markdown",
   "metadata": {},
   "source": [
    "Pauli string weights will now be parameterised only in terms of `n`, `p` and `q`: "
   ]
  },
  {
   "cell_type": "code",
   "execution_count": 33,
   "metadata": {},
   "outputs": [
    {
     "data": {
      "text/latex": [
       "$\\displaystyle \\left(1 - \\frac{4 p}{3}\\right) \\left(1.0 \\left(-104914096181.537 - 64345510766.092 i\\right) \\sin{\\left(n \\right)} + \\left(-240429718647.096 - 146697490379.496 i\\right) \\cos{\\left(n \\right)}\\right) \\left(\\frac{\\sin{\\left(\\frac{q}{2} \\right)}}{2} + \\frac{\\sin{\\left(\\frac{\\overline{q}}{2} \\right)}}{2}\\right) + \\frac{i \\left(1 - \\frac{4 p}{3}\\right) \\left(1.0 \\cdot \\left(9112926819.26284 + 5553976453.00949 i\\right) \\sin{\\left(n \\right)} + \\left(-3301514028.42751 - 1505808366.01058 i\\right) \\cos{\\left(n \\right)}\\right) \\left(- \\cos{\\left(\\frac{q}{2} \\right)} + \\cos{\\left(\\frac{\\overline{q}}{2} \\right)}\\right)}{2} + \\frac{i \\left(1 - \\frac{4 p}{3}\\right) \\left(13832197413.7891 + 8528244825.12275 i\\right) \\left(- \\sin{\\left(\\frac{q}{2} \\right)} + \\sin{\\left(\\frac{\\overline{q}}{2} \\right)}\\right)}{2} + \\left(-11035395121.9849 - 6808217348.04706 i\\right) \\left(1 - \\frac{4 p}{3}\\right) \\left(\\frac{\\cos{\\left(\\frac{q}{2} \\right)}}{2} + \\frac{\\cos{\\left(\\frac{\\overline{q}}{2} \\right)}}{2}\\right)$"
      ],
      "text/plain": [
       "(1 - 4*p/3)*(1.0*(-104914096181.537 - 64345510766.092*I)*sin(n) + (-240429718647.096 - 146697490379.496*I)*cos(n))*(sin(q/2)/2 + sin(conjugate(q)/2)/2) + I*(1 - 4*p/3)*(1.0*(9112926819.26284 + 5553976453.00949*I)*sin(n) + (-3301514028.42751 - 1505808366.01058*I)*cos(n))*(-cos(q/2) + cos(conjugate(q)/2))/2 + I*(1 - 4*p/3)*(13832197413.7891 + 8528244825.12275*I)*(-sin(q/2) + sin(conjugate(q)/2))/2 + (-11035395121.9849 - 6808217348.04706*I)*(1 - 4*p/3)*(cos(q/2)/2 + cos(conjugate(q)/2)/2)"
      ]
     },
     "execution_count": 33,
     "metadata": {},
     "output_type": "execute_result"
    }
   ],
   "source": [
    "state.getWeight('XYZ')"
   ]
  },
  {
   "attachments": {},
   "cell_type": "markdown",
   "metadata": {},
   "source": [
    "This output is still a [SymPy](https://www.sympy.org/en/index.html) [expression](https://docs.sympy.org/latest/tutorials/intro-tutorial/manipulation.html), which we can continue to symbolically process."
   ]
  },
  {
   "cell_type": "code",
   "execution_count": 34,
   "metadata": {},
   "outputs": [
    {
     "data": {
      "text/latex": [
       "$\\displaystyle \\frac{\\left(4 p - 3\\right) \\left(i \\left(\\left(9112926819.26284 + 5553976453.00949 i\\right) \\sin{\\left(n \\right)} - \\left(3301514028.42751 + 1505808366.01058 i\\right) \\cos{\\left(n \\right)}\\right) \\left(\\cos{\\left(\\frac{q}{2} \\right)} - \\cos{\\left(\\frac{\\overline{q}}{2} \\right)}\\right) + \\left(\\left(104914096181.537 + 64345510766.092 i\\right) \\sin{\\left(n \\right)} + \\left(240429718647.096 + 146697490379.496 i\\right) \\cos{\\left(n \\right)}\\right) \\left(\\sin{\\left(\\frac{q}{2} \\right)} + \\sin{\\left(\\frac{\\overline{q}}{2} \\right)}\\right) + i \\left(13832197413.7891 + 8528244825.12275 i\\right) \\left(\\sin{\\left(\\frac{q}{2} \\right)} - \\sin{\\left(\\frac{\\overline{q}}{2} \\right)}\\right) + \\left(11035395121.9849 + 6808217348.04706 i\\right) \\left(\\cos{\\left(\\frac{q}{2} \\right)} + \\cos{\\left(\\frac{\\overline{q}}{2} \\right)}\\right)\\right)}{6}$"
      ],
      "text/plain": [
       "(4*p - 3)*(I*((9112926819.26284 + 5553976453.00949*I)*sin(n) - (3301514028.42751 + 1505808366.01058*I)*cos(n))*(cos(q/2) - cos(conjugate(q)/2)) + ((104914096181.537 + 64345510766.092*I)*sin(n) + (240429718647.096 + 146697490379.496*I)*cos(n))*(sin(q/2) + sin(conjugate(q)/2)) + I*(13832197413.7891 + 8528244825.12275*I)*(sin(q/2) - sin(conjugate(q)/2)) + (11035395121.9849 + 6808217348.04706*I)*(cos(q/2) + cos(conjugate(q)/2)))/6"
      ]
     },
     "execution_count": 34,
     "metadata": {},
     "output_type": "execute_result"
    }
   ],
   "source": [
    "state.getWeight('XYZ').simplify()"
   ]
  },
  {
   "attachments": {},
   "cell_type": "markdown",
   "metadata": {},
   "source": [
    "Let's restore the weights to be fully numerical:"
   ]
  },
  {
   "cell_type": "code",
   "execution_count": 35,
   "metadata": {},
   "outputs": [],
   "source": [
    "values.update({n: -.1, p: .2, q: -1-1j})\n",
    "state.setParams(values)"
   ]
  },
  {
   "attachments": {},
   "cell_type": "markdown",
   "metadata": {},
   "source": [
    "## Computing the expectation value"
   ]
  },
  {
   "attachments": {},
   "cell_type": "markdown",
   "metadata": {},
   "source": [
    "Recall that our initial ensemble was\n",
    "\n",
    "$$\n",
    "\\hat{O} = \\hat{X}_0 - 2 \\, \\hat{Y}_2 \\hat{Z}_0 + a\\, \\hat{Z}_2 \\hat{Z}_1 \\hat{Z}_0 + b \\, \\hat{Z}_2 \\hat{X}_1 \\hat{Y}_0\n",
    "$$"
   ]
  },
  {
   "attachments": {},
   "cell_type": "markdown",
   "metadata": {},
   "source": [
    "This is the operator of which we wish to compute the expectation value, which is merely the sum of a specific subset of the final Pauli string weights; those overlapping our initial state, $\\ket{\\ket{0}}$."
   ]
  },
  {
   "cell_type": "code",
   "execution_count": 36,
   "metadata": {},
   "outputs": [
    {
     "data": {
      "text/latex": [
       "$\\displaystyle -33295482650.7938 - 20408816166.0742 i$"
      ],
      "text/plain": [
       "-33295482650.7938 - 20408816166.0742*I"
      ]
     },
     "execution_count": 36,
     "metadata": {},
     "output_type": "execute_result"
    }
   ],
   "source": [
    "expec = state.getZeroOverlap()\n",
    "expec"
   ]
  },
  {
   "attachments": {},
   "cell_type": "markdown",
   "metadata": {},
   "source": [
    "## Truncating branches"
   ]
  },
  {
   "attachments": {},
   "cell_type": "markdown",
   "metadata": {},
   "source": [
    "In our tiny three-qubit example, propogating the Pauli ensemble was negligibly costly; we spent most of the time computing PTMs. In a sensible regime however, ensemble propogation dominates runtime due to the very large and quickly growing number of Pauli strings."
   ]
  },
  {
   "attachments": {},
   "cell_type": "markdown",
   "metadata": {},
   "source": [
    "To keep this number tractable and propogation fast, we can _truncate_ the ensemble during simulation. Let's repeat our simulation, discarding Pauli strings of `<1%` \"lineage\", after every four operators applied."
   ]
  },
  {
   "cell_type": "code",
   "execution_count": 37,
   "metadata": {},
   "outputs": [
    {
     "name": "stdout",
     "output_type": "stream",
     "text": [
      "applying H[0]\n",
      "applying H[1]\n",
      "applying H[2]\n",
      "applying Rx[0](c)\n",
      "\ttruncating...\n",
      "applying Ry[1](d)\n",
      "applying C[0]Rz[2](e)\n",
      "applying C[1,2]H[0]\n",
      "applying PauliGadget[1,2][YX](f)\n",
      "\ttruncating...\n",
      "applying Damp[0](g)\n",
      "applying Depol[0,1](h)\n",
      "applying U[1,2](j,k)\n",
      "applying C[1]U[0,2](j,k)\n",
      "\ttruncating...\n",
      "applying Kraus[0](j,k)\n",
      "applying Kraus[1,2](j,k)\n",
      "applying H[0]\n",
      "applying H[1]\n",
      "\ttruncating...\n",
      "applying H[2]\n",
      "applying Rx[0](c)\n",
      "applying Ry[1](d)\n",
      "applying C[0]Rz[2](e)\n",
      "\ttruncating...\n",
      "applying C[1,2]H[0]\n",
      "applying PauliGadget[1,2][YX](f)\n",
      "applying Damp[0](g)\n",
      "applying Depol[0,1](h)\n",
      "\ttruncating...\n",
      "applying U[1,2](j,k)\n",
      "applying C[1]U[0,2](j,k)\n",
      "applying Kraus[0](j,k)\n",
      "applying Kraus[1,2](j,k)\n",
      "\ttruncating...\n",
      "applying H[0]\n",
      "applying H[1]\n",
      "applying H[2]\n",
      "applying Rx[0](c)\n",
      "\ttruncating...\n",
      "applying Ry[1](d)\n",
      "applying C[0]Rz[2](e)\n",
      "applying C[1,2]H[0]\n",
      "applying PauliGadget[1,2][YX](f)\n",
      "\ttruncating...\n",
      "applying Damp[0](g)\n",
      "applying Depol[0,1](h)\n",
      "applying U[1,2](j,k)\n",
      "applying C[1]U[0,2](j,k)\n",
      "\ttruncating...\n",
      "applying Kraus[0](j,k)\n",
      "applying Kraus[1,2](j,k)\n",
      "applying C[0]Rz[2](c)\n",
      "applying C[2]Rz[1](d)\n",
      "\ttruncating...\n",
      "applying C[1]Rz[0](e)\n",
      "applying C[2]Rz[0](f)\n",
      "applying C[0,1]H[2]\n",
      "applying C[2,0]H[1]\n",
      "\ttruncating...\n",
      "applying Kraus[0](j,k)\n",
      "applying Kraus[1](j,k)\n",
      "applying Kraus[2](j,k)\n",
      "applying C[2]U[0,1](j,k)\n",
      "\ttruncating...\n",
      "applying C[1]U[2,0](j,k)\n",
      "applying C[0]U[2,1](j,k)\n",
      "applying Ry[1](l)\n",
      "applying Damp[1](m)\n",
      "\ttruncating...\n",
      "applying PauliGadget[0,1,2][ZYX](n)\n",
      "applying Deph[0,1](p)\n",
      "applying C[1]Ry[2](q)\n"
     ]
    }
   ],
   "source": [
    "state.clearOperators()\n",
    "\n",
    "for i, op in enumerate(circ):\n",
    "    print('applying', op)\n",
    "    state.applyOperator(op)\n",
    "\n",
    "    if not (i+1)%4:\n",
    "        print('\\ttruncating...')\n",
    "        state.truncateByFracLineage(.01)"
   ]
  },
  {
   "attachments": {},
   "cell_type": "markdown",
   "metadata": {},
   "source": [
    "Discarding Pauli strings introduces error into our expectation value; the output of `getZeroOverlap` is now an _approximation_."
   ]
  },
  {
   "cell_type": "code",
   "execution_count": 38,
   "metadata": {},
   "outputs": [
    {
     "data": {
      "text/latex": [
       "$\\displaystyle -2628420767.00706 + 1457091434.8932 i$"
      ],
      "text/plain": [
       "-2628420767.00706 + 1457091434.8932*I"
      ]
     },
     "execution_count": 38,
     "metadata": {},
     "output_type": "execute_result"
    }
   ],
   "source": [
    "trunced = state.getZeroOverlap()\n",
    "trunced"
   ]
  },
  {
   "attachments": {},
   "cell_type": "markdown",
   "metadata": {},
   "source": [
    "For such a tiny system ($3$ qubits, with a total of $64$ possible Pauli states), truncation which discards any of the $8$ overlapping Pauli strings naturally causes a catastrophic relative error:"
   ]
  },
  {
   "cell_type": "code",
   "execution_count": 39,
   "metadata": {},
   "outputs": [
    {
     "data": {
      "text/latex": [
       "$\\displaystyle 96.4445059733876$"
      ],
      "text/plain": [
       "96.4445059733876"
      ]
     },
     "execution_count": 39,
     "metadata": {},
     "output_type": "execute_result"
    }
   ],
   "source": [
    "abs((expec-trunced)/expec)*100"
   ]
  },
  {
   "attachments": {},
   "cell_type": "markdown",
   "metadata": {},
   "source": [
    "But you get the idea `¯\\_(ツ)_/¯`"
   ]
  }
 ],
 "metadata": {
  "kernelspec": {
   "display_name": "Python 3",
   "language": "python",
   "name": "python3"
  },
  "language_info": {
   "codemirror_mode": {
    "name": "ipython",
    "version": 3
   },
   "file_extension": ".py",
   "mimetype": "text/x-python",
   "name": "python",
   "nbconvert_exporter": "python",
   "pygments_lexer": "ipython3",
   "version": "3.11.7"
  },
  "orig_nbformat": 4
 },
 "nbformat": 4,
 "nbformat_minor": 2
}
